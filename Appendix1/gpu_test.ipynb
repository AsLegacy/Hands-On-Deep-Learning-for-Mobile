{
 "cells": [
  {
   "cell_type": "markdown",
   "metadata": {},
   "source": [
    "## Hands On Deep Learning for Mobile\n",
    "### Appendix 1: Libraries and Environment Set up"
   ]
  },
  {
   "cell_type": "markdown",
   "metadata": {},
   "source": [
    "#### Check GPU enablement on local machine for tensorflow"
   ]
  },
  {
   "cell_type": "code",
   "execution_count": 1,
   "metadata": {},
   "outputs": [
    {
     "name": "stdout",
     "output_type": "stream",
     "text": [
      "1.12.0\n"
     ]
    }
   ],
   "source": [
    "import tensorflow as tf\n",
    "print (tf.__version__)"
   ]
  },
  {
   "cell_type": "code",
   "execution_count": 2,
   "metadata": {},
   "outputs": [
    {
     "data": {
      "text/plain": [
       "True"
      ]
     },
     "execution_count": 2,
     "metadata": {},
     "output_type": "execute_result"
    }
   ],
   "source": [
    "# Check if GPU is available on your machine\n",
    "\n",
    "tf.test.is_gpu_available()"
   ]
  },
  {
   "cell_type": "code",
   "execution_count": 3,
   "metadata": {},
   "outputs": [
    {
     "name": "stdout",
     "output_type": "stream",
     "text": [
      "/device:GPU:0\n"
     ]
    }
   ],
   "source": [
    "# Print the GPU device name\n",
    "\n",
    "dev_gpu = tf.test.gpu_device_name()\n",
    "print(dev_gpu)"
   ]
  },
  {
   "cell_type": "code",
   "execution_count": 4,
   "metadata": {},
   "outputs": [],
   "source": [
    "# Example operation calculating mean of two random numbers chosen from a normal distribution\n",
    "\n",
    "op_v = tf.reduce_mean(tf.random_normal([500, 1000]))"
   ]
  },
  {
   "cell_type": "code",
   "execution_count": 5,
   "metadata": {},
   "outputs": [
    {
     "name": "stdout",
     "output_type": "stream",
     "text": [
      "[_DeviceAttributes(/job:localhost/replica:0/task:0/device:CPU:0, CPU, 268435456, 18387104453320762044), _DeviceAttributes(/job:localhost/replica:0/task:0/device:GPU:0, GPU, 4958303027, 14517959258242878852)]\n",
      "\n",
      "Execute the operation v graph\n",
      "-0.0009412035\n"
     ]
    }
   ],
   "source": [
    "# Enable device placement logging when running operations. This will print logs showing GPU\n",
    "# being used. When running jupyter noteboook, look for logs on the console\n",
    "\n",
    "with tf.Session(config=tf.ConfigProto(log_device_placement=True)) as sess:\n",
    "    devices = sess.list_devices()\n",
    "    print (devices)\n",
    "    print(\"\\nExecute the operation v graph\")\n",
    "    print(sess.run(op_v))"
   ]
  },
  {
   "cell_type": "code",
   "execution_count": 6,
   "metadata": {},
   "outputs": [
    {
     "name": "stdout",
     "output_type": "stream",
     "text": [
      "[[30.]\n",
      " [30.]\n",
      " [30.]]\n"
     ]
    }
   ],
   "source": [
    "# Matrix Multiplication test on a GPU. matrix shape (3x4) * matrix shape (4x1) = matrix shape (3x1)\n",
    "# This operation will fail if GPU cannot be used for the matrix multiplication operation\n",
    "\n",
    "with tf.device(dev_gpu):\n",
    "    mat_a = tf.constant([1.0,2.0,3.0,4.0,1.0,2.0,3.0,4.0,1.0,2.0,3.0,4.0], shape=[3, 4], name='mat_a')\n",
    "    mat_b = tf.constant([1.0,2.0,3.0,4.0], shape=[4, 1], name='mat_b')\n",
    "    op_c = tf.matmul(mat_a, mat_b)\n",
    "    \n",
    "with tf.Session() as sess:\n",
    "    print (sess.run(op_c))"
   ]
  },
  {
   "cell_type": "code",
   "execution_count": 7,
   "metadata": {},
   "outputs": [
    {
     "data": {
      "text/plain": [
       "[name: \"/device:CPU:0\"\n",
       " device_type: \"CPU\"\n",
       " memory_limit: 268435456\n",
       " locality {\n",
       " }\n",
       " incarnation: 6191821143349578741, name: \"/device:GPU:0\"\n",
       " device_type: \"GPU\"\n",
       " memory_limit: 4958303027\n",
       " locality {\n",
       "   bus_id: 1\n",
       "   links {\n",
       "   }\n",
       " }\n",
       " incarnation: 1320073447927081397\n",
       " physical_device_desc: \"device: 0, name: GeForce GTX 980 Ti, pci bus id: 0000:01:00.0, compute capability: 5.2\"]"
      ]
     },
     "execution_count": 7,
     "metadata": {},
     "output_type": "execute_result"
    }
   ],
   "source": [
    "from tensorflow.python.client import device_lib\n",
    "device_lib.list_local_devices()"
   ]
  }
 ],
 "metadata": {
  "kernelspec": {
   "display_name": "Python 3",
   "language": "python",
   "name": "python3"
  },
  "language_info": {
   "codemirror_mode": {
    "name": "ipython",
    "version": 3
   },
   "file_extension": ".py",
   "mimetype": "text/x-python",
   "name": "python",
   "nbconvert_exporter": "python",
   "pygments_lexer": "ipython3",
   "version": "3.6.1rc1"
  }
 },
 "nbformat": 4,
 "nbformat_minor": 2
}
