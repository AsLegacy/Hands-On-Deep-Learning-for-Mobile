{
 "cells": [
  {
   "cell_type": "code",
   "execution_count": 1,
   "metadata": {
    "scrolled": true
   },
   "outputs": [
    {
     "name": "stdout",
     "output_type": "stream",
     "text": [
      "/usr/bin/python3\n",
      "3.6.7 (default, Oct 22 2018, 11:32:17) \n",
      "[GCC 8.2.0]\n"
     ]
    }
   ],
   "source": [
    "# coremltools is supported on python 3 on Ubuntu but only on python 2.7 on Windows as of early 2019\n",
    "import coremltools\n",
    "import sys\n",
    "\n",
    "print(sys.executable)\n",
    "print(sys.version)"
   ]
  },
  {
   "cell_type": "markdown",
   "metadata": {},
   "source": [
    "## Use stanalone Keras Installation to work with coremltools"
   ]
  },
  {
   "cell_type": "code",
   "execution_count": 2,
   "metadata": {},
   "outputs": [],
   "source": [
    "# Same DL network with standalone Keras\n",
    "from keras.models import Sequential\n",
    "from keras.layers import Conv2D, Flatten, MaxPooling2D, Dropout, Activation, Dense\n",
    "\n",
    "model = Sequential()\n",
    "model.add(Conv2D(32, (3, 3), padding='valid', input_shape=(64, 64, 3)))\n",
    "model.add(MaxPooling2D(2,2))\n",
    "model.add(Dropout(rate=0.5))\n",
    "model.add(Activation('relu'))\n",
    "model.add(Flatten())\n",
    "model.add(Dense(128))\n",
    "model.add(Activation('relu'))\n",
    "model.add(Dense(5))\n",
    "model.add(Activation('softmax'))"
   ]
  },
  {
   "cell_type": "code",
   "execution_count": 3,
   "metadata": {},
   "outputs": [
    {
     "name": "stdout",
     "output_type": "stream",
     "text": [
      "0 : conv2d_1_input, <keras.engine.topology.InputLayer object at 0x7fc2c850fb00>\n",
      "1 : conv2d_1, <keras.layers.convolutional.Conv2D object at 0x7fc259249748>\n",
      "2 : max_pooling2d_1, <keras.layers.pooling.MaxPooling2D object at 0x7fc2c8508cc0>\n",
      "3 : activation_1, <keras.layers.core.Activation object at 0x7fc259268f98>\n",
      "4 : flatten_1, <keras.layers.core.Flatten object at 0x7fc259249be0>\n",
      "5 : dense_1, <keras.layers.core.Dense object at 0x7fc2cfaed4a8>\n",
      "6 : activation_2, <keras.layers.core.Activation object at 0x7fc259268470>\n",
      "7 : dense_2, <keras.layers.core.Dense object at 0x7fc2589d12b0>\n",
      "8 : activation_3, <keras.layers.core.Activation object at 0x7fc2589d1c18>\n"
     ]
    }
   ],
   "source": [
    "coreml_model = coremltools.converters.keras.convert(model)"
   ]
  },
  {
   "cell_type": "markdown",
   "metadata": {},
   "source": [
    "## Pretrained MobileNet as Core ML network"
   ]
  },
  {
   "cell_type": "code",
   "execution_count": 4,
   "metadata": {},
   "outputs": [],
   "source": [
    "# This will download a new version of MobileNet when invoked for the first time\n",
    "from keras.applications.mobilenet import MobileNet, decode_predictions\n",
    "model_mnet = MobileNet(weights='imagenet')"
   ]
  },
  {
   "cell_type": "code",
   "execution_count": 5,
   "metadata": {},
   "outputs": [
    {
     "name": "stdout",
     "output_type": "stream",
     "text": [
      "0 : input_1, <keras.engine.topology.InputLayer object at 0x7fc2c85e5da0>\n",
      "1 : conv1_pad, <keras.layers.convolutional.ZeroPadding2D object at 0x7fc258959978>\n",
      "2 : conv1, <keras.layers.convolutional.Conv2D object at 0x7fc258959198>\n",
      "3 : conv1_bn, <keras.layers.normalization.BatchNormalization object at 0x7fc258959940>\n",
      "4 : conv1_relu, <keras.layers.core.Activation object at 0x7fc258959ac8>\n",
      "5 : conv_pad_1, <keras.layers.convolutional.ZeroPadding2D object at 0x7fc258959fd0>\n",
      "6 : conv_dw_1, <keras.layers.convolutional.DepthwiseConv2D object at 0x7fc258093b70>\n",
      "7 : conv_dw_1_bn, <keras.layers.normalization.BatchNormalization object at 0x7fc2589715c0>\n",
      "8 : conv_dw_1_relu, <keras.layers.core.Activation object at 0x7fc25805da90>\n",
      "9 : conv_pw_1, <keras.layers.convolutional.Conv2D object at 0x7fc2507c6b00>\n",
      "10 : conv_pw_1_bn, <keras.layers.normalization.BatchNormalization object at 0x7fc2507c61d0>\n",
      "11 : conv_pw_1_relu, <keras.layers.core.Activation object at 0x7fc2507b3e10>\n",
      "12 : conv_pad_2, <keras.layers.convolutional.ZeroPadding2D object at 0x7fc2506e76d8>\n",
      "13 : conv_dw_2, <keras.layers.convolutional.DepthwiseConv2D object at 0x7fc2506bf6a0>\n",
      "14 : conv_dw_2_bn, <keras.layers.normalization.BatchNormalization object at 0x7fc25065b198>\n",
      "15 : conv_dw_2_relu, <keras.layers.core.Activation object at 0x7fc2506936a0>\n",
      "16 : conv_pw_2, <keras.layers.convolutional.Conv2D object at 0x7fc2505efef0>\n",
      "17 : conv_pw_2_bn, <keras.layers.normalization.BatchNormalization object at 0x7fc250557c88>\n",
      "18 : conv_pw_2_relu, <keras.layers.core.Activation object at 0x7fc2504defd0>\n",
      "19 : conv_pad_3, <keras.layers.convolutional.ZeroPadding2D object at 0x7fc250459dd8>\n",
      "20 : conv_dw_3, <keras.layers.convolutional.DepthwiseConv2D object at 0x7fc250492e80>\n",
      "21 : conv_dw_3_bn, <keras.layers.normalization.BatchNormalization object at 0x7fc250492c50>\n",
      "22 : conv_dw_3_relu, <keras.layers.core.Activation object at 0x7fc25038ef60>\n",
      "23 : conv_pw_3, <keras.layers.convolutional.Conv2D object at 0x7fc2503b3e48>\n",
      "24 : conv_pw_3_bn, <keras.layers.normalization.BatchNormalization object at 0x7fc2503b3128>\n",
      "25 : conv_pw_3_relu, <keras.layers.core.Activation object at 0x7fc2502d1240>\n",
      "26 : conv_pad_4, <keras.layers.convolutional.ZeroPadding2D object at 0x7fc250258978>\n",
      "27 : conv_dw_4, <keras.layers.convolutional.DepthwiseConv2D object at 0x7fc2502ad940>\n",
      "28 : conv_dw_4_bn, <keras.layers.normalization.BatchNormalization object at 0x7fc2502055f8>\n",
      "29 : conv_dw_4_relu, <keras.layers.core.Activation object at 0x7fc2501578d0>\n",
      "30 : conv_pw_4, <keras.layers.convolutional.Conv2D object at 0x7fc2501087b8>\n",
      "31 : conv_pw_4_bn, <keras.layers.normalization.BatchNormalization object at 0x7fc250095f98>\n",
      "32 : conv_pw_4_relu, <keras.layers.core.Activation object at 0x7fc2500f7358>\n",
      "33 : conv_pad_5, <keras.layers.convolutional.ZeroPadding2D object at 0x7fc2387c7a20>\n",
      "34 : conv_dw_5, <keras.layers.convolutional.DepthwiseConv2D object at 0x7fc2387c7b38>\n",
      "35 : conv_dw_5_bn, <keras.layers.normalization.BatchNormalization object at 0x7fc238791208>\n",
      "36 : conv_dw_5_relu, <keras.layers.core.Activation object at 0x7fc2387b1978>\n",
      "37 : conv_pw_5, <keras.layers.convolutional.Conv2D object at 0x7fc23869ae10>\n",
      "38 : conv_pw_5_bn, <keras.layers.normalization.BatchNormalization object at 0x7fc2386eb630>\n",
      "39 : conv_pw_5_relu, <keras.layers.core.Activation object at 0x7fc2385e0be0>\n",
      "40 : conv_pad_6, <keras.layers.convolutional.ZeroPadding2D object at 0x7fc23858fa90>\n",
      "41 : conv_dw_6, <keras.layers.convolutional.DepthwiseConv2D object at 0x7fc23858fac8>\n",
      "42 : conv_dw_6_bn, <keras.layers.normalization.BatchNormalization object at 0x7fc2385409e8>\n",
      "43 : conv_dw_6_relu, <keras.layers.core.Activation object at 0x7fc238492dd8>\n",
      "44 : conv_pw_6, <keras.layers.convolutional.Conv2D object at 0x7fc23843aa58>\n",
      "45 : conv_pw_6_bn, <keras.layers.normalization.BatchNormalization object at 0x7fc23843a128>\n",
      "46 : conv_pw_6_relu, <keras.layers.core.Activation object at 0x7fc23842ac88>\n",
      "47 : conv_pad_7, <keras.layers.convolutional.ZeroPadding2D object at 0x7fc2383b6cc0>\n",
      "48 : conv_dw_7, <keras.layers.convolutional.DepthwiseConv2D object at 0x7fc238329fd0>\n",
      "49 : conv_dw_7_bn, <keras.layers.normalization.BatchNormalization object at 0x7fc2383b6550>\n",
      "50 : conv_dw_7_relu, <keras.layers.core.Activation object at 0x7fc2382d6748>\n",
      "51 : conv_pw_7, <keras.layers.convolutional.Conv2D object at 0x7fc238267da0>\n",
      "52 : conv_pw_7_bn, <keras.layers.normalization.BatchNormalization object at 0x7fc2382674e0>\n",
      "53 : conv_pw_7_relu, <keras.layers.core.Activation object at 0x7fc238154e80>\n",
      "54 : conv_pad_8, <keras.layers.convolutional.ZeroPadding2D object at 0x7fc2380d3e80>\n",
      "55 : conv_dw_8, <keras.layers.convolutional.DepthwiseConv2D object at 0x7fc2380ac1d0>\n",
      "56 : conv_dw_8_bn, <keras.layers.normalization.BatchNormalization object at 0x7fc23810bdd8>\n",
      "57 : conv_dw_8_relu, <keras.layers.core.Activation object at 0x7fc20c7c8c18>\n",
      "58 : conv_pw_8, <keras.layers.convolutional.Conv2D object at 0x7fc20c7f2cf8>\n",
      "59 : conv_pw_8_bn, <keras.layers.normalization.BatchNormalization object at 0x7fc20c7f22b0>\n",
      "60 : conv_pw_8_relu, <keras.layers.core.Activation object at 0x7fc20c75ff98>\n",
      "61 : conv_pad_9, <keras.layers.convolutional.ZeroPadding2D object at 0x7fc20c696828>\n",
      "62 : conv_dw_9, <keras.layers.convolutional.DepthwiseConv2D object at 0x7fc20c6ed7f0>\n",
      "63 : conv_dw_9_bn, <keras.layers.normalization.BatchNormalization object at 0x7fc20c641be0>\n",
      "64 : conv_dw_9_relu, <keras.layers.core.Activation object at 0x7fc20c59e780>\n",
      "65 : conv_pw_9, <keras.layers.convolutional.Conv2D object at 0x7fc20c53e668>\n",
      "66 : conv_pw_9_bn, <keras.layers.normalization.BatchNormalization object at 0x7fc20c4cee10>\n",
      "67 : conv_pw_9_relu, <keras.layers.core.Activation object at 0x7fc20c48af28>\n",
      "68 : conv_pad_10, <keras.layers.convolutional.ZeroPadding2D object at 0x7fc20c470dd8>\n",
      "69 : conv_dw_10, <keras.layers.convolutional.DepthwiseConv2D object at 0x7fc20c432908>\n",
      "70 : conv_dw_10_bn, <keras.layers.normalization.BatchNormalization object at 0x7fc20c442f98>\n",
      "71 : conv_dw_10_relu, <keras.layers.core.Activation object at 0x7fc20c3d8160>\n",
      "72 : conv_pw_10, <keras.layers.convolutional.Conv2D object at 0x7fc20c363f98>\n",
      "73 : conv_pw_10_bn, <keras.layers.normalization.BatchNormalization object at 0x7fc20c3630f0>\n",
      "74 : conv_pw_10_relu, <keras.layers.core.Activation object at 0x7fc20c27b390>\n",
      "75 : conv_pad_11, <keras.layers.convolutional.ZeroPadding2D object at 0x7fc20c266f98>\n",
      "76 : conv_dw_11, <keras.layers.convolutional.DepthwiseConv2D object at 0x7fc20c20aa58>\n",
      "77 : conv_dw_11_bn, <keras.layers.normalization.BatchNormalization object at 0x7fc20c1b9898>\n",
      "78 : conv_dw_11_relu, <keras.layers.core.Activation object at 0x7fc20c10ae10>\n",
      "79 : conv_pw_11, <keras.layers.convolutional.Conv2D object at 0x7fc20c134908>\n",
      "80 : conv_pw_11_bn, <keras.layers.normalization.BatchNormalization object at 0x7fc20c1341d0>\n",
      "81 : conv_pw_11_relu, <keras.layers.core.Activation object at 0x7fc20c0a6b38>\n",
      "82 : conv_pad_12, <keras.layers.convolutional.ZeroPadding2D object at 0x7fc1f509d438>\n",
      "83 : conv_dw_12, <keras.layers.convolutional.DepthwiseConv2D object at 0x7fc1f5063ba8>\n",
      "84 : conv_dw_12_bn, <keras.layers.normalization.BatchNormalization object at 0x7fc1f50eecf8>\n",
      "85 : conv_dw_12_relu, <keras.layers.core.Activation object at 0x7fc1f50115f8>\n",
      "86 : conv_pw_12, <keras.layers.convolutional.Conv2D object at 0x7fc1f4fa1c50>\n",
      "87 : conv_pw_12_bn, <keras.layers.normalization.BatchNormalization object at 0x7fc1f4fa1390>\n",
      "88 : conv_pw_12_relu, <keras.layers.core.Activation object at 0x7fc1f4e93d30>\n",
      "89 : conv_pad_13, <keras.layers.convolutional.ZeroPadding2D object at 0x7fc1f4e0eda0>\n",
      "90 : conv_dw_13, <keras.layers.convolutional.DepthwiseConv2D object at 0x7fc1f4e43cf8>\n",
      "91 : conv_dw_13_bn, <keras.layers.normalization.BatchNormalization object at 0x7fc1f4e43fd0>\n",
      "92 : conv_dw_13_relu, <keras.layers.core.Activation object at 0x7fc1f4e32518>\n",
      "93 : conv_pw_13, <keras.layers.convolutional.Conv2D object at 0x7fc1f4d14d68>\n",
      "94 : conv_pw_13_bn, <keras.layers.normalization.BatchNormalization object at 0x7fc1f4d68550>\n",
      "95 : conv_pw_13_relu, <keras.layers.core.Activation object at 0x7fc1f4c5cf98>\n",
      "96 : global_average_pooling2d_1, <keras.layers.pooling.GlobalAveragePooling2D object at 0x7fc1f4bd7dd8>\n",
      "97 : reshape_1, <keras.layers.core.Reshape object at 0x7fc1f4ba5278>\n",
      "98 : conv_preds, <keras.layers.convolutional.Conv2D object at 0x7fc1f4c10ef0>\n",
      "99 : act_softmax, <keras.layers.core.Activation object at 0x7fc1f4c104e0>\n",
      "100 : reshape_2, <keras.layers.core.Reshape object at 0x7fc1f4a84be0>\n"
     ]
    }
   ],
   "source": [
    "coreml_model_mnet = coremltools.converters.keras.convert(model_mnet)"
   ]
  },
  {
   "cell_type": "code",
   "execution_count": 6,
   "metadata": {},
   "outputs": [],
   "source": [
    "coreml_model_mnet.save('first_network.mlmodel')"
   ]
  },
  {
   "cell_type": "markdown",
   "metadata": {},
   "source": [
    "## Example of what will not work"
   ]
  },
  {
   "cell_type": "code",
   "execution_count": 7,
   "metadata": {},
   "outputs": [],
   "source": [
    "# Create a simple DL network on Keras to test coremltools sanity\n",
    "from tensorflow.keras.models import Sequential\n",
    "from tensorflow.keras.layers import Conv2D, Flatten, MaxPooling2D, Dropout, Activation, Dense\n",
    "\n",
    "model = Sequential()\n",
    "model.add(Conv2D(32, (3, 3), padding='valid', input_shape=(64, 64, 3)))\n",
    "model.add(MaxPooling2D(2,2))\n",
    "model.add(Dropout(rate=0.5))\n",
    "model.add(Activation('relu'))\n",
    "model.add(Flatten())\n",
    "model.add(Dense(128))\n",
    "model.add(Activation('relu'))\n",
    "model.add(Dense(5))\n",
    "model.add(Activation('softmax'))"
   ]
  },
  {
   "cell_type": "code",
   "execution_count": 8,
   "metadata": {},
   "outputs": [
    {
     "ename": "ValueError",
     "evalue": "Keras layer '<class 'tensorflow.python.keras.layers.convolutional.Conv2D'>' not supported. ",
     "output_type": "error",
     "traceback": [
      "\u001b[0;31m---------------------------------------------------------------------------\u001b[0m",
      "\u001b[0;31mValueError\u001b[0m                                Traceback (most recent call last)",
      "\u001b[0;32m<ipython-input-8-fcc89c28328a>\u001b[0m in \u001b[0;36m<module>\u001b[0;34m\u001b[0m\n\u001b[1;32m      1\u001b[0m \u001b[0;31m# Convert to Core ML\u001b[0m\u001b[0;34m\u001b[0m\u001b[0;34m\u001b[0m\u001b[0;34m\u001b[0m\u001b[0m\n\u001b[0;32m----> 2\u001b[0;31m \u001b[0mcoreml_model\u001b[0m \u001b[0;34m=\u001b[0m \u001b[0mcoremltools\u001b[0m\u001b[0;34m.\u001b[0m\u001b[0mconverters\u001b[0m\u001b[0;34m.\u001b[0m\u001b[0mkeras\u001b[0m\u001b[0;34m.\u001b[0m\u001b[0mconvert\u001b[0m\u001b[0;34m(\u001b[0m\u001b[0mmodel\u001b[0m\u001b[0;34m)\u001b[0m\u001b[0;34m\u001b[0m\u001b[0;34m\u001b[0m\u001b[0m\n\u001b[0m",
      "\u001b[0;32m~/.local/lib/python3.6/site-packages/coremltools/converters/keras/_keras_converter.py\u001b[0m in \u001b[0;36mconvert\u001b[0;34m(model, input_names, output_names, image_input_names, input_name_shape_dict, is_bgr, red_bias, green_bias, blue_bias, gray_bias, image_scale, class_labels, predicted_feature_name, model_precision, predicted_probabilities_output, add_custom_layers, custom_conversion_functions)\u001b[0m\n\u001b[1;32m    758\u001b[0m                       \u001b[0mpredicted_probabilities_output\u001b[0m\u001b[0;34m,\u001b[0m\u001b[0;34m\u001b[0m\u001b[0;34m\u001b[0m\u001b[0m\n\u001b[1;32m    759\u001b[0m                       \u001b[0madd_custom_layers\u001b[0m\u001b[0;34m,\u001b[0m\u001b[0;34m\u001b[0m\u001b[0;34m\u001b[0m\u001b[0m\n\u001b[0;32m--> 760\u001b[0;31m                       custom_conversion_functions=custom_conversion_functions)\n\u001b[0m\u001b[1;32m    761\u001b[0m \u001b[0;34m\u001b[0m\u001b[0m\n\u001b[1;32m    762\u001b[0m     \u001b[0;32mreturn\u001b[0m \u001b[0m_MLModel\u001b[0m\u001b[0;34m(\u001b[0m\u001b[0mspec\u001b[0m\u001b[0;34m)\u001b[0m\u001b[0;34m\u001b[0m\u001b[0;34m\u001b[0m\u001b[0m\n",
      "\u001b[0;32m~/.local/lib/python3.6/site-packages/coremltools/converters/keras/_keras_converter.py\u001b[0m in \u001b[0;36mconvertToSpec\u001b[0;34m(model, input_names, output_names, image_input_names, input_name_shape_dict, is_bgr, red_bias, green_bias, blue_bias, gray_bias, image_scale, class_labels, predicted_feature_name, model_precision, predicted_probabilities_output, add_custom_layers, custom_conversion_functions, custom_objects)\u001b[0m\n\u001b[1;32m    554\u001b[0m                                            \u001b[0madd_custom_layers\u001b[0m\u001b[0;34m=\u001b[0m\u001b[0madd_custom_layers\u001b[0m\u001b[0;34m,\u001b[0m\u001b[0;34m\u001b[0m\u001b[0;34m\u001b[0m\u001b[0m\n\u001b[1;32m    555\u001b[0m                                            \u001b[0mcustom_conversion_functions\u001b[0m\u001b[0;34m=\u001b[0m\u001b[0mcustom_conversion_functions\u001b[0m\u001b[0;34m,\u001b[0m\u001b[0;34m\u001b[0m\u001b[0;34m\u001b[0m\u001b[0m\n\u001b[0;32m--> 556\u001b[0;31m                                            custom_objects=custom_objects)\n\u001b[0m\u001b[1;32m    557\u001b[0m     \u001b[0;32melse\u001b[0m\u001b[0;34m:\u001b[0m\u001b[0;34m\u001b[0m\u001b[0;34m\u001b[0m\u001b[0m\n\u001b[1;32m    558\u001b[0m         raise RuntimeError(\n",
      "\u001b[0;32m~/.local/lib/python3.6/site-packages/coremltools/converters/keras/_keras2_converter.py\u001b[0m in \u001b[0;36m_convert\u001b[0;34m(model, input_names, output_names, image_input_names, input_name_shape_dict, is_bgr, red_bias, green_bias, blue_bias, gray_bias, image_scale, class_labels, predicted_feature_name, predicted_probabilities_output, add_custom_layers, custom_conversion_functions, custom_objects)\u001b[0m\n\u001b[1;32m    203\u001b[0m \u001b[0;34m\u001b[0m\u001b[0m\n\u001b[1;32m    204\u001b[0m     \u001b[0;31m# Check valid versions\u001b[0m\u001b[0;34m\u001b[0m\u001b[0;34m\u001b[0m\u001b[0;34m\u001b[0m\u001b[0m\n\u001b[0;32m--> 205\u001b[0;31m     \u001b[0m_check_unsupported_layers\u001b[0m\u001b[0;34m(\u001b[0m\u001b[0mmodel\u001b[0m\u001b[0;34m,\u001b[0m \u001b[0madd_custom_layers\u001b[0m\u001b[0;34m)\u001b[0m\u001b[0;34m\u001b[0m\u001b[0;34m\u001b[0m\u001b[0m\n\u001b[0m\u001b[1;32m    206\u001b[0m \u001b[0;34m\u001b[0m\u001b[0m\n\u001b[1;32m    207\u001b[0m     \u001b[0;31m# Build network graph to represent Keras model\u001b[0m\u001b[0;34m\u001b[0m\u001b[0;34m\u001b[0m\u001b[0;34m\u001b[0m\u001b[0m\n",
      "\u001b[0;32m~/.local/lib/python3.6/site-packages/coremltools/converters/keras/_keras2_converter.py\u001b[0m in \u001b[0;36m_check_unsupported_layers\u001b[0;34m(model, add_custom_layers)\u001b[0m\n\u001b[1;32m    105\u001b[0m         \u001b[0;32melse\u001b[0m\u001b[0;34m:\u001b[0m\u001b[0;34m\u001b[0m\u001b[0;34m\u001b[0m\u001b[0m\n\u001b[1;32m    106\u001b[0m             \u001b[0;32mif\u001b[0m \u001b[0mtype\u001b[0m\u001b[0;34m(\u001b[0m\u001b[0mlayer\u001b[0m\u001b[0;34m)\u001b[0m \u001b[0;32mnot\u001b[0m \u001b[0;32min\u001b[0m \u001b[0m_KERAS_LAYER_REGISTRY\u001b[0m\u001b[0;34m:\u001b[0m\u001b[0;34m\u001b[0m\u001b[0;34m\u001b[0m\u001b[0m\n\u001b[0;32m--> 107\u001b[0;31m                 \u001b[0;32mraise\u001b[0m \u001b[0mValueError\u001b[0m\u001b[0;34m(\u001b[0m\u001b[0;34m\"Keras layer '%s' not supported. \"\u001b[0m \u001b[0;34m%\u001b[0m \u001b[0mstr\u001b[0m\u001b[0;34m(\u001b[0m\u001b[0mtype\u001b[0m\u001b[0;34m(\u001b[0m\u001b[0mlayer\u001b[0m\u001b[0;34m)\u001b[0m\u001b[0;34m)\u001b[0m\u001b[0;34m)\u001b[0m\u001b[0;34m\u001b[0m\u001b[0;34m\u001b[0m\u001b[0m\n\u001b[0m\u001b[1;32m    108\u001b[0m             \u001b[0;32mif\u001b[0m \u001b[0misinstance\u001b[0m\u001b[0;34m(\u001b[0m\u001b[0mlayer\u001b[0m\u001b[0;34m,\u001b[0m \u001b[0m_keras\u001b[0m\u001b[0;34m.\u001b[0m\u001b[0mlayers\u001b[0m\u001b[0;34m.\u001b[0m\u001b[0mwrappers\u001b[0m\u001b[0;34m.\u001b[0m\u001b[0mTimeDistributed\u001b[0m\u001b[0;34m)\u001b[0m\u001b[0;34m:\u001b[0m\u001b[0;34m\u001b[0m\u001b[0;34m\u001b[0m\u001b[0m\n\u001b[1;32m    109\u001b[0m                 \u001b[0;32mif\u001b[0m \u001b[0mtype\u001b[0m\u001b[0;34m(\u001b[0m\u001b[0mlayer\u001b[0m\u001b[0;34m.\u001b[0m\u001b[0mlayer\u001b[0m\u001b[0;34m)\u001b[0m \u001b[0;32mnot\u001b[0m \u001b[0;32min\u001b[0m \u001b[0m_KERAS_LAYER_REGISTRY\u001b[0m\u001b[0;34m:\u001b[0m\u001b[0;34m\u001b[0m\u001b[0;34m\u001b[0m\u001b[0m\n",
      "\u001b[0;31mValueError\u001b[0m: Keras layer '<class 'tensorflow.python.keras.layers.convolutional.Conv2D'>' not supported. "
     ]
    }
   ],
   "source": [
    "# Convert to Core ML\n",
    "coreml_model = coremltools.converters.keras.convert(model)"
   ]
  },
  {
   "cell_type": "code",
   "execution_count": null,
   "metadata": {},
   "outputs": [],
   "source": []
  }
 ],
 "metadata": {
  "kernelspec": {
   "display_name": "Python 3",
   "language": "python",
   "name": "python3"
  },
  "language_info": {
   "codemirror_mode": {
    "name": "ipython",
    "version": 3
   },
   "file_extension": ".py",
   "mimetype": "text/x-python",
   "name": "python",
   "nbconvert_exporter": "python",
   "pygments_lexer": "ipython3",
   "version": "3.6.1rc1"
  }
 },
 "nbformat": 4,
 "nbformat_minor": 2
}
