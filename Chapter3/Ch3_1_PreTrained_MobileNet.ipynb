{
 "cells": [
  {
   "cell_type": "markdown",
   "metadata": {},
   "source": [
    "## Chapter 3\n",
    "# Pre-trained MobileNet based Tensorflow Lite Model Creation"
   ]
  },
  {
   "cell_type": "code",
   "execution_count": 1,
   "metadata": {},
   "outputs": [
    {
     "name": "stdout",
     "output_type": "stream",
     "text": [
      "TesnsorFlow version: 1.13.1\n",
      "Keras version:  2.2.4-tf\n"
     ]
    }
   ],
   "source": [
    "import tensorflow as tf\n",
    "print ('TesnsorFlow version:', tf.__version__)\n",
    "print ('Keras version: ', tf.keras.__version__)"
   ]
  },
  {
   "cell_type": "code",
   "execution_count": 2,
   "metadata": {},
   "outputs": [],
   "source": [
    "MY_FIRST_NW_MobileNet        = r\"\"\"first_network.h5\"\"\"\n",
    "MY_FIRST_NW_MobileNet_Tflite = r\"\"\"first_network.tflite\"\"\""
   ]
  },
  {
   "cell_type": "code",
   "execution_count": 4,
   "metadata": {},
   "outputs": [],
   "source": [
    "# This will download a new version of MobileNet when invoked for the first time\n",
    "from tensorflow.keras.applications.mobilenet import MobileNet, decode_predictions\n",
    "model_mnet = MobileNet(weights='imagenet')\n",
    "model_mnet.save(MY_FIRST_NW_MobileNet)"
   ]
  },
  {
   "cell_type": "code",
   "execution_count": 7,
   "metadata": {},
   "outputs": [
    {
     "name": "stdout",
     "output_type": "stream",
     "text": [
      "WARNING:tensorflow:No training configuration found in save file: the model was *not* compiled. Compile it manually.\n",
      "INFO:tensorflow:Froze 137 variables.\n",
      "INFO:tensorflow:Converted 137 variables to const ops.\n"
     ]
    }
   ],
   "source": [
    "converter = None\n",
    "if (tf.__version__ <= \"1.12.0\"):\n",
    "    converter = \\\n",
    "      tf.contrib.lite.TFLiteConverter.from_keras_model_file(MY_FIRST_NW_MobileNet)\n",
    "else:\n",
    "    converter = \\\n",
    "      tf.lite.TFLiteConverter.from_keras_model_file(MY_FIRST_NW_MobileNet)      \n",
    "\n",
    "tfmodel   = converter.convert()\n",
    "try:\n",
    "    fd = open(MY_FIRST_NW_MobileNet_Tflite, \"wb\")\n",
    "    fd.write(tfmodel)\n",
    "    fd.flush()\n",
    "    fd.close()\n",
    "except:\n",
    "    print(\"Error in file i/o: \", e)"
   ]
  },
  {
   "cell_type": "code",
   "execution_count": 10,
   "metadata": {},
   "outputs": [
    {
     "name": "stdout",
     "output_type": "stream",
     "text": [
      " Volume in drive E is 3TB\n",
      " Volume Serial Number is 3E1D-9902\n",
      "\n",
      " Directory of E:\\author\\GHrepo\\Hands-On-Deep-Learning-for-Mobile\\Chapter3\n",
      "\n",
      "\n",
      " Directory of E:\\author\\GHrepo\\Hands-On-Deep-Learning-for-Mobile\\Chapter3\n",
      "\n",
      "03/14/2019  02:51 AM        17,275,568 first_network.h5\n",
      "03/14/2019  02:51 AM        16,897,160 first_network.tflite\n",
      "               2 File(s)     34,172,728 bytes\n",
      "               0 Dir(s)  2,695,384,088,576 bytes free\n"
     ]
    }
   ],
   "source": [
    "ls *.h5 *.tflite"
   ]
  },
  {
   "cell_type": "markdown",
   "metadata": {},
   "source": [
    "## TFLite Python Inference"
   ]
  },
  {
   "cell_type": "code",
   "execution_count": 11,
   "metadata": {},
   "outputs": [],
   "source": [
    "## TBD"
   ]
  }
 ],
 "metadata": {
  "kernelspec": {
   "display_name": "Python 3",
   "language": "python",
   "name": "python3"
  },
  "language_info": {
   "codemirror_mode": {
    "name": "ipython",
    "version": 3
   },
   "file_extension": ".py",
   "mimetype": "text/x-python",
   "name": "python",
   "nbconvert_exporter": "python",
   "pygments_lexer": "ipython3",
   "version": "3.6.1rc1"
  }
 },
 "nbformat": 4,
 "nbformat_minor": 2
}
